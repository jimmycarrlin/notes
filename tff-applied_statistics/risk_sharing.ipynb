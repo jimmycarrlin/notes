{
 "cells": [
  {
   "cell_type": "code",
   "execution_count": 458,
   "id": "08785aca",
   "metadata": {},
   "outputs": [],
   "source": [
    "import numpy as np\n",
    "import pandas as pd\n",
    "import scipy\n",
    "import seaborn as sns\n",
    "import matplotlib.pyplot as plt\n",
    "from plotnine import *\n",
    "\n",
    "from statsmodels.stats.weightstats import _zconfint_generic, _tconfint_generic\n",
    "from statsmodels.stats.proportion import proportion_confint\n",
    "from scipy.stats import norm"
   ]
  },
  {
   "cell_type": "code",
   "execution_count": 459,
   "id": "9f36e449",
   "metadata": {},
   "outputs": [],
   "source": [
    "plt.rcParams['figure.figsize'] = [6, 8]\n",
    "tfont = {'family': 'monospace',\n",
    "         'color':  'black',\n",
    "         'weight': 'heavy',\n",
    "         'size': 22}"
   ]
  },
  {
   "cell_type": "markdown",
   "id": "3966ea33",
   "metadata": {},
   "source": [
    "# Подготовка данных "
   ]
  },
  {
   "cell_type": "code",
   "execution_count": 1,
   "id": "805e2e6b",
   "metadata": {},
   "outputs": [
    {
     "name": "stdout",
     "output_type": "stream",
     "text": [
      "/Users/pavelkiselev/Downloads\n"
     ]
    }
   ],
   "source": [
    "%cd ./Downloads"
   ]
  },
  {
   "cell_type": "code",
   "execution_count": 461,
   "id": "d548a37b",
   "metadata": {},
   "outputs": [
    {
     "data": {
      "text/plain": [
       "(10000, 7)"
      ]
     },
     "execution_count": 461,
     "metadata": {},
     "output_type": "execute_result"
    }
   ],
   "source": [
    "df = pd.read_csv('data.csv', sep=',')\n",
    "df.shape"
   ]
  },
  {
   "cell_type": "code",
   "execution_count": 462,
   "id": "406a7b8f",
   "metadata": {},
   "outputs": [
    {
     "data": {
      "text/html": [
       "<div>\n",
       "<style scoped>\n",
       "    .dataframe tbody tr th:only-of-type {\n",
       "        vertical-align: middle;\n",
       "    }\n",
       "\n",
       "    .dataframe tbody tr th {\n",
       "        vertical-align: top;\n",
       "    }\n",
       "\n",
       "    .dataframe thead th {\n",
       "        text-align: right;\n",
       "    }\n",
       "</style>\n",
       "<table border=\"1\" class=\"dataframe\">\n",
       "  <thead>\n",
       "    <tr style=\"text-align: right;\">\n",
       "      <th></th>\n",
       "      <th>id</th>\n",
       "      <th>required_amt</th>\n",
       "      <th>installment_flg</th>\n",
       "      <th>monthly_income_amt</th>\n",
       "      <th>age</th>\n",
       "      <th>has_high_education_flg</th>\n",
       "      <th>approved_flg</th>\n",
       "    </tr>\n",
       "  </thead>\n",
       "  <tbody>\n",
       "    <tr>\n",
       "      <th>0</th>\n",
       "      <td>1</td>\n",
       "      <td>23906.0</td>\n",
       "      <td>0</td>\n",
       "      <td>80000</td>\n",
       "      <td>37</td>\n",
       "      <td>0</td>\n",
       "      <td>0</td>\n",
       "    </tr>\n",
       "    <tr>\n",
       "      <th>1</th>\n",
       "      <td>2</td>\n",
       "      <td>13111.0</td>\n",
       "      <td>1</td>\n",
       "      <td>43000</td>\n",
       "      <td>22</td>\n",
       "      <td>0</td>\n",
       "      <td>0</td>\n",
       "    </tr>\n",
       "    <tr>\n",
       "      <th>2</th>\n",
       "      <td>3</td>\n",
       "      <td>43266.0</td>\n",
       "      <td>1</td>\n",
       "      <td>20000</td>\n",
       "      <td>34</td>\n",
       "      <td>0</td>\n",
       "      <td>0</td>\n",
       "    </tr>\n",
       "    <tr>\n",
       "      <th>3</th>\n",
       "      <td>4</td>\n",
       "      <td>68782.0</td>\n",
       "      <td>1</td>\n",
       "      <td>35000</td>\n",
       "      <td>24</td>\n",
       "      <td>0</td>\n",
       "      <td>0</td>\n",
       "    </tr>\n",
       "    <tr>\n",
       "      <th>4</th>\n",
       "      <td>5</td>\n",
       "      <td>19550.0</td>\n",
       "      <td>1</td>\n",
       "      <td>25000</td>\n",
       "      <td>42</td>\n",
       "      <td>1</td>\n",
       "      <td>0</td>\n",
       "    </tr>\n",
       "  </tbody>\n",
       "</table>\n",
       "</div>"
      ],
      "text/plain": [
       "   id  required_amt  installment_flg  monthly_income_amt  age  \\\n",
       "0   1       23906.0                0               80000   37   \n",
       "1   2       13111.0                1               43000   22   \n",
       "2   3       43266.0                1               20000   34   \n",
       "3   4       68782.0                1               35000   24   \n",
       "4   5       19550.0                1               25000   42   \n",
       "\n",
       "   has_high_education_flg  approved_flg  \n",
       "0                       0             0  \n",
       "1                       0             0  \n",
       "2                       0             0  \n",
       "3                       0             0  \n",
       "4                       1             0  "
      ]
     },
     "execution_count": 462,
     "metadata": {},
     "output_type": "execute_result"
    }
   ],
   "source": [
    "df.head()"
   ]
  },
  {
   "cell_type": "code",
   "execution_count": 463,
   "id": "0ab5d395",
   "metadata": {},
   "outputs": [
    {
     "name": "stdout",
     "output_type": "stream",
     "text": [
      "<class 'pandas.core.frame.DataFrame'>\n",
      "Int64Index: 9998 entries, 0 to 9999\n",
      "Data columns (total 7 columns):\n",
      " #   Column                  Non-Null Count  Dtype  \n",
      "---  ------                  --------------  -----  \n",
      " 0   id                      9998 non-null   int64  \n",
      " 1   required_amt            9998 non-null   float64\n",
      " 2   installment_flg         9998 non-null   int64  \n",
      " 3   monthly_income_amt      9998 non-null   int64  \n",
      " 4   age                     9998 non-null   int64  \n",
      " 5   has_high_education_flg  9998 non-null   int64  \n",
      " 6   approved_flg            9998 non-null   int64  \n",
      "dtypes: float64(1), int64(6)\n",
      "memory usage: 624.9 KB\n"
     ]
    }
   ],
   "source": [
    "df.dropna(inplace=True)\n",
    "df.info()"
   ]
  },
  {
   "cell_type": "markdown",
   "id": "7d58ff12",
   "metadata": {},
   "source": [
    "# Предсказательные интервалы"
   ]
  },
  {
   "cell_type": "markdown",
   "id": "87d1d967",
   "metadata": {},
   "source": [
    "Построим предсказательные интервалы для ежемесячного дохода и запрошенной суммы в предположении их логнормальности. Т.е. если $X$ — запрошенная сумма, то\n",
    "$$ X = e^V, \\text{ где } V \\sim \\cal{N} (\\mu, \\sigma).$$ \n",
    "Вместо неизвестных $\\mu$ и $\\sigma$ будем использовать их несмещенные оценки:\n",
    "$$ \\mu \\approx \\bar{V}_n = \\frac{V_1 + \\cdots + V_n}{n} \\\\\n",
    "\\sigma \\approx S_n = \\frac{1}{n-1} \\sum_{i=1}^{n} (V_i - \\bar{V}_n)^2 = \\frac{1}{n-1} \\sum_{i=1}^{n} (\\ln{X_i} - \\bar{V}_n)^2. $$\n",
    "Тогда предсказательный интервал для $V$ имеет вид:\n",
    "$$ [\\bar{V}_n - z_{1-\\alpha/2}S_n -  \\bar{V}_n + z_{1-\\alpha/2}S_n],$$\n",
    "для $X$:\n",
    "$$ [\\exp(\\bar{V}_n - z_{1-\\alpha/2}S_n) -  \\exp(\\bar{V}_n + z_{1-\\alpha/2}S_n)].$$"
   ]
  },
  {
   "cell_type": "code",
   "execution_count": 464,
   "id": "42b0c2db",
   "metadata": {},
   "outputs": [
    {
     "name": "stdout",
     "output_type": "stream",
     "text": [
      "monthly_income_amt 95% confidence interval:       [13,008 - 119,867]\n",
      "required_amt 95% confidence interval:       [6,678 - 124,715]\n"
     ]
    }
   ],
   "source": [
    "log_monthly_income_conf_int = _zconfint_generic(np.log(df.monthly_income_amt).mean(),\n",
    "                                                np.log(df.monthly_income_amt).std(),\n",
    "                                                0.05,\n",
    "                                                'two-sided')\n",
    "\n",
    "log_required_conf_int = _zconfint_generic(np.log(df.required_amt).mean(),\n",
    "                                          np.log(df.required_amt).std(),\n",
    "                                          0.05,\n",
    "                                          'two-sided')\n",
    "\n",
    "monthly_income_conf_int = np.exp(log_monthly_income_conf_int)\n",
    "\n",
    "required_conf_int = np.exp(log_required_conf_int)\n",
    "\n",
    "\n",
    "print(f'monthly_income_amt 95% confidence interval: \\\n",
    "      [{monthly_income_conf_int[0]:,.0f} - {monthly_income_conf_int[1]:,.0f}]')\n",
    "      \n",
    "print(f'required_amt 95% confidence interval: \\\n",
    "      [{required_conf_int[0]:,.0f} - {required_conf_int[1]:,.0f}]')"
   ]
  },
  {
   "cell_type": "markdown",
   "id": "ba6e05c3",
   "metadata": {},
   "source": [
    "# Разделение рисков"
   ]
  },
  {
   "cell_type": "markdown",
   "id": "68e12bc3",
   "metadata": {},
   "source": [
    "## Категориальные признаки"
   ]
  },
  {
   "cell_type": "markdown",
   "id": "f6e5f47f",
   "metadata": {},
   "source": [
    "Построим доверительные интервалы для approved_flg по каждому признаку. Для категориальных признаков разобьем выборку на две подвыборки. И для каждой подвыборки построим доверительные интервалы, а затем сравним их."
   ]
  },
  {
   "cell_type": "code",
   "execution_count": 465,
   "id": "f10bd3be",
   "metadata": {},
   "outputs": [
    {
     "name": "stdout",
     "output_type": "stream",
     "text": [
      "educated client approved 99% confidence interval:       [0.307 - 0.348]\n",
      "not educated client approved 99% confidence interval:       [0.212 - 0.348]\n"
     ]
    }
   ],
   "source": [
    "educated_client_approved_conf_int = proportion_confint(df[df.has_high_education_flg == 1].approved_flg.sum(),\n",
    "                                                       len(df[df.has_high_education_flg == 1].approved_flg),\n",
    "                                                       alpha = 0.01,\n",
    "                                                       method = 'wilson')\n",
    "\n",
    "not_educated_client_approved_conf_int = proportion_confint(df[df.has_high_education_flg == 0].approved_flg.sum(),\n",
    "                                                           len(df[df.has_high_education_flg == 0].approved_flg),\n",
    "                                                           alpha = 0.01,\n",
    "                                                           method = 'wilson')\n",
    "\n",
    "print(f'educated client approved 99% confidence interval: \\\n",
    "      [{educated_client_approved_conf_int[0]:.3f} - {educated_client_approved_conf_int[1]:.3f}]')\n",
    "\n",
    "print(f'not educated client approved 99% confidence interval: \\\n",
    "      [{not_educated_client_approved_conf_int[0]:.3f} - {educated_client_approved_conf_int[1]:.3f}]')"
   ]
  },
  {
   "cell_type": "markdown",
   "id": "4d8cde21",
   "metadata": {},
   "source": [
    "Интервалы пересекаются — однозначного вывода на уровне значимости 99% сделать нельзя. Построим интервал на разность долей."
   ]
  },
  {
   "cell_type": "code",
   "execution_count": 466,
   "id": "75e4e306",
   "metadata": {},
   "outputs": [],
   "source": [
    "def proportions_confint_diff_ind(sample1, sample2, alpha = 0.01):\n",
    "    '''Считает доверительный интервал для разности долей в независимых выборках'''\n",
    "    z = scipy.stats.norm.ppf(1 - alpha / 2.)\n",
    "    p1 = float(sum(sample1)) / len(sample1)\n",
    "    p2 = float(sum(sample2)) / len(sample2)\n",
    "    sigma = np.sqrt(p1 * (1 - p1)/ len(sample1) + p2 * (1 - p2)/ len(sample2))\n",
    "    left_boundary = (p1 - p2) - z * sigma\n",
    "    right_boundary = (p1 - p2) + z * sigma\n",
    "    return (left_boundary, right_boundary)"
   ]
  },
  {
   "cell_type": "code",
   "execution_count": 467,
   "id": "178e5e0e",
   "metadata": {},
   "outputs": [
    {
     "data": {
      "text/plain": [
       "(0.07799488990081878, 0.12672037014015905)"
      ]
     },
     "execution_count": 467,
     "metadata": {},
     "output_type": "execute_result"
    }
   ],
   "source": [
    "proportions_confint_diff_ind(df[df.has_high_education_flg == 1].approved_flg,\n",
    "                             df[df.has_high_education_flg == 0].approved_flg)"
   ]
  },
  {
   "cell_type": "markdown",
   "id": "965659e4",
   "metadata": {},
   "source": [
    "Т.к. интервал не содержить нуля, можно сделать вывод о том, что признак высшего образования разделяет риски на уровне значимости 99%."
   ]
  },
  {
   "cell_type": "markdown",
   "id": "1313cee3",
   "metadata": {},
   "source": [
    "Аналогично строим интервалы для approved_flg по признаку рассрочки/кредита."
   ]
  },
  {
   "cell_type": "code",
   "execution_count": 468,
   "id": "a2a5cd00",
   "metadata": {},
   "outputs": [
    {
     "name": "stdout",
     "output_type": "stream",
     "text": [
      "installment client approved 99% confidence interval: [0.247 - 0.275]\n"
     ]
    }
   ],
   "source": [
    "installment_client_approved_conf_int = proportion_confint(df[df.installment_flg == 1].approved_flg.sum(),\n",
    "                                                    len(df[df.installment_flg == 1].approved_flg),\n",
    "                                                    alpha = 0.01,\n",
    "                                                    method = 'wilson')\n",
    "\n",
    "print(f'installment client approved 99% confidence interval: [{installment_client_approved_conf_int[0]:.3f} - {installment_client_approved_conf_int[1]:.3f}]')"
   ]
  },
  {
   "cell_type": "code",
   "execution_count": 469,
   "id": "91022a68",
   "metadata": {},
   "outputs": [
    {
     "name": "stdout",
     "output_type": "stream",
     "text": [
      "credit client approved 99% confidence interval: [0.244 - 0.281]\n"
     ]
    }
   ],
   "source": [
    "credit_client_approved_conf_int = proportion_confint(df[df.installment_flg == 0].approved_flg.sum(),\n",
    "                                                    len(df[df.installment_flg == 0].approved_flg),\n",
    "                                                    alpha = 0.01,\n",
    "                                                    method = 'wilson')\n",
    "\n",
    "print(f'credit client approved 99% confidence interval: [{credit_client_approved_conf_int[0]:.3f} - {credit_client_approved_conf_int[1]:.3f}]')"
   ]
  },
  {
   "cell_type": "code",
   "execution_count": 470,
   "id": "8284e72b",
   "metadata": {},
   "outputs": [
    {
     "data": {
      "text/plain": [
       "(-0.024484187147299566, 0.0222959707974721)"
      ]
     },
     "execution_count": 470,
     "metadata": {},
     "output_type": "execute_result"
    }
   ],
   "source": [
    "proportions_confint_diff_ind(df[df.installment_flg == 1].approved_flg,\n",
    "                             df[df.installment_flg == 0].approved_flg)"
   ]
  },
  {
   "cell_type": "markdown",
   "id": "7323a64b",
   "metadata": {},
   "source": [
    "Делаем вывод о том, что признак рассрочки/кредита не разделяет риски на уровне значимости 99%."
   ]
  },
  {
   "cell_type": "markdown",
   "id": "13fa1985",
   "metadata": {},
   "source": [
    "## Вещественные признаки"
   ]
  },
  {
   "cell_type": "markdown",
   "id": "0fe9f06d",
   "metadata": {},
   "source": [
    "Далее построим доверительные интервалы для вещественных признаков. Для этого разобьем выбору по бакетам. Т.к. размер выборки небольшой, разбивку сделаем на четыре равные части по квантилям 0.25, 0.5, 0.75."
   ]
  },
  {
   "cell_type": "code",
   "execution_count": 471,
   "id": "fe0ff251",
   "metadata": {},
   "outputs": [
    {
     "data": {
      "text/html": [
       "<div>\n",
       "<style scoped>\n",
       "    .dataframe tbody tr th:only-of-type {\n",
       "        vertical-align: middle;\n",
       "    }\n",
       "\n",
       "    .dataframe tbody tr th {\n",
       "        vertical-align: top;\n",
       "    }\n",
       "\n",
       "    .dataframe thead th {\n",
       "        text-align: right;\n",
       "    }\n",
       "</style>\n",
       "<table border=\"1\" class=\"dataframe\">\n",
       "  <thead>\n",
       "    <tr style=\"text-align: right;\">\n",
       "      <th></th>\n",
       "      <th>monthly_income_amt</th>\n",
       "      <th>monthly_income_ctg</th>\n",
       "      <th>approved_flg</th>\n",
       "    </tr>\n",
       "  </thead>\n",
       "  <tbody>\n",
       "    <tr>\n",
       "      <th>0</th>\n",
       "      <td>80000</td>\n",
       "      <td>(55000.0, 1500000.0]</td>\n",
       "      <td>0</td>\n",
       "    </tr>\n",
       "    <tr>\n",
       "      <th>1</th>\n",
       "      <td>43000</td>\n",
       "      <td>(40000.0, 55000.0]</td>\n",
       "      <td>0</td>\n",
       "    </tr>\n",
       "    <tr>\n",
       "      <th>2</th>\n",
       "      <td>20000</td>\n",
       "      <td>(21.999, 28000.0]</td>\n",
       "      <td>0</td>\n",
       "    </tr>\n",
       "    <tr>\n",
       "      <th>3</th>\n",
       "      <td>35000</td>\n",
       "      <td>(28000.0, 40000.0]</td>\n",
       "      <td>0</td>\n",
       "    </tr>\n",
       "    <tr>\n",
       "      <th>4</th>\n",
       "      <td>25000</td>\n",
       "      <td>(21.999, 28000.0]</td>\n",
       "      <td>0</td>\n",
       "    </tr>\n",
       "    <tr>\n",
       "      <th>...</th>\n",
       "      <td>...</td>\n",
       "      <td>...</td>\n",
       "      <td>...</td>\n",
       "    </tr>\n",
       "    <tr>\n",
       "      <th>9995</th>\n",
       "      <td>28000</td>\n",
       "      <td>(21.999, 28000.0]</td>\n",
       "      <td>0</td>\n",
       "    </tr>\n",
       "    <tr>\n",
       "      <th>9996</th>\n",
       "      <td>30000</td>\n",
       "      <td>(28000.0, 40000.0]</td>\n",
       "      <td>1</td>\n",
       "    </tr>\n",
       "    <tr>\n",
       "      <th>9997</th>\n",
       "      <td>31000</td>\n",
       "      <td>(28000.0, 40000.0]</td>\n",
       "      <td>1</td>\n",
       "    </tr>\n",
       "    <tr>\n",
       "      <th>9998</th>\n",
       "      <td>70000</td>\n",
       "      <td>(55000.0, 1500000.0]</td>\n",
       "      <td>1</td>\n",
       "    </tr>\n",
       "    <tr>\n",
       "      <th>9999</th>\n",
       "      <td>40000</td>\n",
       "      <td>(28000.0, 40000.0]</td>\n",
       "      <td>1</td>\n",
       "    </tr>\n",
       "  </tbody>\n",
       "</table>\n",
       "<p>9998 rows × 3 columns</p>\n",
       "</div>"
      ],
      "text/plain": [
       "      monthly_income_amt    monthly_income_ctg  approved_flg\n",
       "0                  80000  (55000.0, 1500000.0]             0\n",
       "1                  43000    (40000.0, 55000.0]             0\n",
       "2                  20000     (21.999, 28000.0]             0\n",
       "3                  35000    (28000.0, 40000.0]             0\n",
       "4                  25000     (21.999, 28000.0]             0\n",
       "...                  ...                   ...           ...\n",
       "9995               28000     (21.999, 28000.0]             0\n",
       "9996               30000    (28000.0, 40000.0]             1\n",
       "9997               31000    (28000.0, 40000.0]             1\n",
       "9998               70000  (55000.0, 1500000.0]             1\n",
       "9999               40000    (28000.0, 40000.0]             1\n",
       "\n",
       "[9998 rows x 3 columns]"
      ]
     },
     "execution_count": 471,
     "metadata": {},
     "output_type": "execute_result"
    }
   ],
   "source": [
    "monthly_income_ctg = pd.qcut(df.monthly_income_amt, q=4).rename(\"monthly_income_ctg\")\n",
    "\n",
    "df_inc = pd.concat([df.monthly_income_amt, monthly_income_ctg, df.approved_flg], axis=1)\n",
    "df_inc"
   ]
  },
  {
   "cell_type": "code",
   "execution_count": 472,
   "id": "d1b4f52b",
   "metadata": {},
   "outputs": [
    {
     "name": "stdout",
     "output_type": "stream",
     "text": [
      "income (21.999, 28000.0]    client approved 99% confidence interval:           [0.250 - 0.296]\n",
      "income (28000.0, 40000.0]   client approved 99% confidence interval:           [0.241 - 0.281]\n",
      "income (40000.0, 55000.0]   client approved 99% confidence interval:           [0.218 - 0.267]\n",
      "income (55000.0, 1500000.0] client approved 99% confidence interval:           [0.244 - 0.291]\n"
     ]
    },
    {
     "data": {
      "image/png": "[encoded data removed]",
      "text/plain": [
       "<Figure size 432x576 with 1 Axes>"
      ]
     },
     "metadata": {
      "needs_background": "light"
     },
     "output_type": "display_data"
    }
   ],
   "source": [
    "ci_bounds = []\n",
    "\n",
    "for ctg in sorted(monthly_income_ctg.unique()):\n",
    "    inc_ctg_data = df_inc[df_inc.monthly_income_ctg == ctg].approved_flg\n",
    "    \n",
    "    income_client_approved_conf_int = proportion_confint(inc_ctg_data.sum(), len(inc_ctg_data),\n",
    "                                                         alpha = 0.01,\n",
    "                                                         method = 'wilson')\n",
    "\n",
    "    print(f'income {str(ctg):20} client approved 99% confidence interval: \\\n",
    "          [{income_client_approved_conf_int[0]:.3f} - {income_client_approved_conf_int[1]:.3f}]')\n",
    "    \n",
    "    plt.vlines(str(ctg), *income_client_approved_conf_int, color=\".3\", alpha=0.8)\n",
    "    plt.scatter(y=inc_ctg_data.mean(), x=str(ctg), s=100, color=\".0\")\n",
    "    \n",
    "    ci_bounds.extend(income_client_approved_conf_int)\n",
    "    \n",
    "plt.yticks(ci_bounds)\n",
    "plt.grid(True, linestyle='--', alpha=0.25)"
   ]
  },
  {
   "cell_type": "markdown",
   "id": "f0d5cd47",
   "metadata": {},
   "source": [
    "Признак нахождения в одной из четырех категорий не разделяет риски на уровне значимости 99%, но можно заметить что категория \"income (40000.0, 55000.0]\" имеет значительно меньше одобрений. Проверим гипотезу, что признак нахожения в категории \"income (40000.0, 55000.0]\" разделяет риски. Для этого объеденим остальные три категории."
   ]
  },
  {
   "cell_type": "code",
   "execution_count": 473,
   "id": "92599b73",
   "metadata": {},
   "outputs": [
    {
     "data": {
      "text/plain": [
       "(0.003568192263012193, 0.04555069708749321)"
      ]
     },
     "execution_count": 473,
     "metadata": {},
     "output_type": "execute_result"
    }
   ],
   "source": [
    "proportions_confint_diff_ind(df_inc[df_inc.monthly_income_ctg != sorted(monthly_income_ctg.unique())[2]].approved_flg,\n",
    "                             df_inc[df_inc.monthly_income_ctg == sorted(monthly_income_ctg.unique())[2]].approved_flg,\n",
    "                             alpha = 0.05)"
   ]
  },
  {
   "cell_type": "markdown",
   "id": "cec3f2b1",
   "metadata": {},
   "source": [
    "Действительно, признак нахожения в категории \"income (40000.0, 55000.0]\" разделяет риски на уровне значимости 99%."
   ]
  },
  {
   "cell_type": "markdown",
   "id": "8d5a9078",
   "metadata": {},
   "source": [
    "Далее аналогично исследуем запрошенную сумму."
   ]
  },
  {
   "cell_type": "code",
   "execution_count": 474,
   "id": "678cca9c",
   "metadata": {},
   "outputs": [
    {
     "data": {
      "text/html": [
       "<div>\n",
       "<style scoped>\n",
       "    .dataframe tbody tr th:only-of-type {\n",
       "        vertical-align: middle;\n",
       "    }\n",
       "\n",
       "    .dataframe tbody tr th {\n",
       "        vertical-align: top;\n",
       "    }\n",
       "\n",
       "    .dataframe thead th {\n",
       "        text-align: right;\n",
       "    }\n",
       "</style>\n",
       "<table border=\"1\" class=\"dataframe\">\n",
       "  <thead>\n",
       "    <tr style=\"text-align: right;\">\n",
       "      <th></th>\n",
       "      <th>required_amt</th>\n",
       "      <th>required_ctg</th>\n",
       "      <th>approved_flg</th>\n",
       "    </tr>\n",
       "  </thead>\n",
       "  <tbody>\n",
       "    <tr>\n",
       "      <th>0</th>\n",
       "      <td>23906.0</td>\n",
       "      <td>(16990.0, 27734.5]</td>\n",
       "      <td>0</td>\n",
       "    </tr>\n",
       "    <tr>\n",
       "      <th>1</th>\n",
       "      <td>13111.0</td>\n",
       "      <td>(2179.999, 16990.0]</td>\n",
       "      <td>0</td>\n",
       "    </tr>\n",
       "    <tr>\n",
       "      <th>2</th>\n",
       "      <td>43266.0</td>\n",
       "      <td>(27734.5, 52534.75]</td>\n",
       "      <td>0</td>\n",
       "    </tr>\n",
       "    <tr>\n",
       "      <th>3</th>\n",
       "      <td>68782.0</td>\n",
       "      <td>(52534.75, 279788.0]</td>\n",
       "      <td>0</td>\n",
       "    </tr>\n",
       "    <tr>\n",
       "      <th>4</th>\n",
       "      <td>19550.0</td>\n",
       "      <td>(16990.0, 27734.5]</td>\n",
       "      <td>0</td>\n",
       "    </tr>\n",
       "    <tr>\n",
       "      <th>...</th>\n",
       "      <td>...</td>\n",
       "      <td>...</td>\n",
       "      <td>...</td>\n",
       "    </tr>\n",
       "    <tr>\n",
       "      <th>9995</th>\n",
       "      <td>22999.0</td>\n",
       "      <td>(16990.0, 27734.5]</td>\n",
       "      <td>0</td>\n",
       "    </tr>\n",
       "    <tr>\n",
       "      <th>9996</th>\n",
       "      <td>16178.0</td>\n",
       "      <td>(2179.999, 16990.0]</td>\n",
       "      <td>1</td>\n",
       "    </tr>\n",
       "    <tr>\n",
       "      <th>9997</th>\n",
       "      <td>14400.0</td>\n",
       "      <td>(2179.999, 16990.0]</td>\n",
       "      <td>1</td>\n",
       "    </tr>\n",
       "    <tr>\n",
       "      <th>9998</th>\n",
       "      <td>17121.0</td>\n",
       "      <td>(16990.0, 27734.5]</td>\n",
       "      <td>1</td>\n",
       "    </tr>\n",
       "    <tr>\n",
       "      <th>9999</th>\n",
       "      <td>18011.0</td>\n",
       "      <td>(16990.0, 27734.5]</td>\n",
       "      <td>1</td>\n",
       "    </tr>\n",
       "  </tbody>\n",
       "</table>\n",
       "<p>9998 rows × 3 columns</p>\n",
       "</div>"
      ],
      "text/plain": [
       "      required_amt          required_ctg  approved_flg\n",
       "0          23906.0    (16990.0, 27734.5]             0\n",
       "1          13111.0   (2179.999, 16990.0]             0\n",
       "2          43266.0   (27734.5, 52534.75]             0\n",
       "3          68782.0  (52534.75, 279788.0]             0\n",
       "4          19550.0    (16990.0, 27734.5]             0\n",
       "...            ...                   ...           ...\n",
       "9995       22999.0    (16990.0, 27734.5]             0\n",
       "9996       16178.0   (2179.999, 16990.0]             1\n",
       "9997       14400.0   (2179.999, 16990.0]             1\n",
       "9998       17121.0    (16990.0, 27734.5]             1\n",
       "9999       18011.0    (16990.0, 27734.5]             1\n",
       "\n",
       "[9998 rows x 3 columns]"
      ]
     },
     "execution_count": 474,
     "metadata": {},
     "output_type": "execute_result"
    }
   ],
   "source": [
    "required_ctg = pd.qcut(df.required_amt, q=4).rename(\"required_ctg\")\n",
    "\n",
    "df_req = pd.concat([df.required_amt, required_ctg, df.approved_flg], axis=1)\n",
    "df_req"
   ]
  },
  {
   "cell_type": "code",
   "execution_count": 475,
   "id": "3ddb1b1a",
   "metadata": {},
   "outputs": [
    {
     "name": "stdout",
     "output_type": "stream",
     "text": [
      "required (2179.999, 16990.0]  client approved 99% confidence interval:           [0.320 - 0.369]\n",
      "required (16990.0, 27734.5]   client approved 99% confidence interval:           [0.265 - 0.312]\n",
      "required (27734.5, 52534.75]  client approved 99% confidence interval:           [0.233 - 0.278]\n",
      "required (52534.75, 279788.0] client approved 99% confidence interval:           [0.139 - 0.176]\n"
     ]
    },
    {
     "data": {
      "image/png": "[encoded data removed]",
      "text/plain": [
       "<Figure size 432x576 with 1 Axes>"
      ]
     },
     "metadata": {
      "needs_background": "light"
     },
     "output_type": "display_data"
    }
   ],
   "source": [
    "ci_bounds = []\n",
    "\n",
    "for ctg in sorted(required_ctg.unique()):\n",
    "    req_ctg_data = df_req[df_req.required_ctg == ctg].approved_flg\n",
    "    \n",
    "    required_client_approved_conf_int = proportion_confint(req_ctg_data.sum(), len(req_ctg_data),\n",
    "                                                           alpha = 0.01,\n",
    "                                                           method = 'wilson')\n",
    "\n",
    "    print(f'required {str(ctg):20} client approved 99% confidence interval: \\\n",
    "          [{required_client_approved_conf_int[0]:.3f} - {required_client_approved_conf_int[1]:.3f}]')\n",
    "    \n",
    "    \n",
    "    plt.vlines(str(ctg), *required_client_approved_conf_int, color=\".3\", alpha=0.8)\n",
    "    plt.scatter(y=req_ctg_data.mean(), x=str(ctg), s=100, color=\".0\")\n",
    "    \n",
    "    ci_bounds.extend(required_client_approved_conf_int)\n",
    "    \n",
    "plt.yticks(ci_bounds)\n",
    "plt.grid(True, linestyle='--', alpha=0.25)"
   ]
  },
  {
   "cell_type": "markdown",
   "id": "5d495276",
   "metadata": {},
   "source": [
    "Дополнительно проверим пересекающиеся интервалы."
   ]
  },
  {
   "cell_type": "code",
   "execution_count": 476,
   "id": "a728e735",
   "metadata": {},
   "outputs": [
    {
     "data": {
      "text/plain": [
       "(0.0011725307893713927, 0.06594566264184722)"
      ]
     },
     "execution_count": 476,
     "metadata": {},
     "output_type": "execute_result"
    }
   ],
   "source": [
    "proportions_confint_diff_ind(df_req[df_req.required_ctg == sorted(required_ctg.unique())[1]].approved_flg,\n",
    "                             df_req[df_req.required_ctg == sorted(required_ctg.unique())[2]].approved_flg,\n",
    "                             alpha = 0.01)"
   ]
  },
  {
   "cell_type": "markdown",
   "id": "f43f4c9d",
   "metadata": {},
   "source": [
    "Следовательно, признак нахождения в одной из четырех категорий по запрошенной сумме разделяет риски на уровне значимости 99%. Чем выше запрошенная сумма — тем меньше вероятность одобрения."
   ]
  },
  {
   "cell_type": "markdown",
   "id": "03aa8ae2",
   "metadata": {},
   "source": [
    "Далее аналогично исследуем возраст заявителей."
   ]
  },
  {
   "cell_type": "code",
   "execution_count": 477,
   "id": "77aecece",
   "metadata": {},
   "outputs": [
    {
     "data": {
      "text/html": [
       "<div>\n",
       "<style scoped>\n",
       "    .dataframe tbody tr th:only-of-type {\n",
       "        vertical-align: middle;\n",
       "    }\n",
       "\n",
       "    .dataframe tbody tr th {\n",
       "        vertical-align: top;\n",
       "    }\n",
       "\n",
       "    .dataframe thead th {\n",
       "        text-align: right;\n",
       "    }\n",
       "</style>\n",
       "<table border=\"1\" class=\"dataframe\">\n",
       "  <thead>\n",
       "    <tr style=\"text-align: right;\">\n",
       "      <th></th>\n",
       "      <th>age</th>\n",
       "      <th>age_ctg</th>\n",
       "      <th>approved_flg</th>\n",
       "    </tr>\n",
       "  </thead>\n",
       "  <tbody>\n",
       "    <tr>\n",
       "      <th>0</th>\n",
       "      <td>37</td>\n",
       "      <td>(30.0, 38.0]</td>\n",
       "      <td>0</td>\n",
       "    </tr>\n",
       "    <tr>\n",
       "      <th>1</th>\n",
       "      <td>22</td>\n",
       "      <td>(17.999, 24.0]</td>\n",
       "      <td>0</td>\n",
       "    </tr>\n",
       "    <tr>\n",
       "      <th>2</th>\n",
       "      <td>34</td>\n",
       "      <td>(30.0, 38.0]</td>\n",
       "      <td>0</td>\n",
       "    </tr>\n",
       "    <tr>\n",
       "      <th>3</th>\n",
       "      <td>24</td>\n",
       "      <td>(17.999, 24.0]</td>\n",
       "      <td>0</td>\n",
       "    </tr>\n",
       "    <tr>\n",
       "      <th>4</th>\n",
       "      <td>42</td>\n",
       "      <td>(38.0, 74.0]</td>\n",
       "      <td>0</td>\n",
       "    </tr>\n",
       "    <tr>\n",
       "      <th>...</th>\n",
       "      <td>...</td>\n",
       "      <td>...</td>\n",
       "      <td>...</td>\n",
       "    </tr>\n",
       "    <tr>\n",
       "      <th>9995</th>\n",
       "      <td>33</td>\n",
       "      <td>(30.0, 38.0]</td>\n",
       "      <td>0</td>\n",
       "    </tr>\n",
       "    <tr>\n",
       "      <th>9996</th>\n",
       "      <td>37</td>\n",
       "      <td>(30.0, 38.0]</td>\n",
       "      <td>1</td>\n",
       "    </tr>\n",
       "    <tr>\n",
       "      <th>9997</th>\n",
       "      <td>56</td>\n",
       "      <td>(38.0, 74.0]</td>\n",
       "      <td>1</td>\n",
       "    </tr>\n",
       "    <tr>\n",
       "      <th>9998</th>\n",
       "      <td>29</td>\n",
       "      <td>(24.0, 30.0]</td>\n",
       "      <td>1</td>\n",
       "    </tr>\n",
       "    <tr>\n",
       "      <th>9999</th>\n",
       "      <td>22</td>\n",
       "      <td>(17.999, 24.0]</td>\n",
       "      <td>1</td>\n",
       "    </tr>\n",
       "  </tbody>\n",
       "</table>\n",
       "<p>9998 rows × 3 columns</p>\n",
       "</div>"
      ],
      "text/plain": [
       "      age         age_ctg  approved_flg\n",
       "0      37    (30.0, 38.0]             0\n",
       "1      22  (17.999, 24.0]             0\n",
       "2      34    (30.0, 38.0]             0\n",
       "3      24  (17.999, 24.0]             0\n",
       "4      42    (38.0, 74.0]             0\n",
       "...   ...             ...           ...\n",
       "9995   33    (30.0, 38.0]             0\n",
       "9996   37    (30.0, 38.0]             1\n",
       "9997   56    (38.0, 74.0]             1\n",
       "9998   29    (24.0, 30.0]             1\n",
       "9999   22  (17.999, 24.0]             1\n",
       "\n",
       "[9998 rows x 3 columns]"
      ]
     },
     "execution_count": 477,
     "metadata": {},
     "output_type": "execute_result"
    }
   ],
   "source": [
    "age_ctg = pd.qcut(df.age, q=4).rename(\"age_ctg\")\n",
    "\n",
    "df_age = pd.concat([df.age, age_ctg, df.approved_flg], axis=1)\n",
    "df_age"
   ]
  },
  {
   "cell_type": "code",
   "execution_count": 478,
   "id": "24b078d6",
   "metadata": {},
   "outputs": [
    {
     "name": "stdout",
     "output_type": "stream",
     "text": [
      "age (17.999, 24.0]  client approved 99% confidence interval:           [0.104 - 0.135]\n",
      "age (24.0, 30.0]    client approved 99% confidence interval:           [0.213 - 0.258]\n",
      "age (30.0, 38.0]    client approved 99% confidence interval:           [0.296 - 0.346]\n",
      "age (38.0, 74.0]    client approved 99% confidence interval:           [0.374 - 0.426]\n"
     ]
    },
    {
     "data": {
      "image/png": "[encoded data removed]",
      "text/plain": [
       "<Figure size 432x576 with 1 Axes>"
      ]
     },
     "metadata": {
      "needs_background": "light"
     },
     "output_type": "display_data"
    }
   ],
   "source": [
    "ci_bounds = []\n",
    "\n",
    "for ctg in sorted(age_ctg.unique()):\n",
    "    age_ctg_data = df_age[df_age.age_ctg == ctg].approved_flg\n",
    "    \n",
    "    age_client_approved_conf_int = proportion_confint(age_ctg_data.sum(), len(age_ctg_data),\n",
    "                                                      alpha = 0.01,\n",
    "                                                      method = 'wilson')\n",
    "\n",
    "    print(f'age {str(ctg):15} client approved 99% confidence interval: \\\n",
    "          [{age_client_approved_conf_int[0]:.3f} - {age_client_approved_conf_int[1]:.3f}]')\n",
    "    \n",
    "    plt.vlines(str(ctg), *age_client_approved_conf_int, color=\".3\", alpha=0.8)\n",
    "    plt.scatter(y=age_ctg_data.mean(), x=str(ctg), s=100, color=\".0\")\n",
    "    \n",
    "    ci_bounds.extend(age_client_approved_conf_int)\n",
    "    \n",
    "plt.yticks(ci_bounds)\n",
    "plt.grid(True, linestyle='--', alpha=0.25)"
   ]
  },
  {
   "cell_type": "markdown",
   "id": "e8ad3b59",
   "metadata": {},
   "source": [
    "Признак нахождения в одной из четырех категорий по возрасту разделяет риски на уровне значимости 99% — чем меньше возраст, тем меньше вероятность одобрения."
   ]
  },
  {
   "cell_type": "markdown",
   "id": "4a4c8c94",
   "metadata": {},
   "source": [
    "Далее добавим еще один признак к нашей таблице — отношение запрошенной суммы к зарплате. "
   ]
  },
  {
   "cell_type": "code",
   "execution_count": 479,
   "id": "f7cf5b0d",
   "metadata": {},
   "outputs": [
    {
     "data": {
      "text/plain": [
       "0       0.298825\n",
       "1       0.304907\n",
       "2       2.163300\n",
       "3       1.965200\n",
       "4       0.782000\n",
       "          ...   \n",
       "9995    0.821393\n",
       "9996    0.539267\n",
       "9997    0.464516\n",
       "9998    0.244586\n",
       "9999    0.450275\n",
       "Name: req_inc_ratio, Length: 9998, dtype: float64"
      ]
     },
     "execution_count": 479,
     "metadata": {},
     "output_type": "execute_result"
    }
   ],
   "source": [
    "ratio = (df.required_amt / df.monthly_income_amt).rename(\"req_inc_ratio\")\n",
    "ratio"
   ]
  },
  {
   "cell_type": "code",
   "execution_count": 480,
   "id": "904013cc",
   "metadata": {},
   "outputs": [
    {
     "data": {
      "text/html": [
       "<div>\n",
       "<style scoped>\n",
       "    .dataframe tbody tr th:only-of-type {\n",
       "        vertical-align: middle;\n",
       "    }\n",
       "\n",
       "    .dataframe tbody tr th {\n",
       "        vertical-align: top;\n",
       "    }\n",
       "\n",
       "    .dataframe thead th {\n",
       "        text-align: right;\n",
       "    }\n",
       "</style>\n",
       "<table border=\"1\" class=\"dataframe\">\n",
       "  <thead>\n",
       "    <tr style=\"text-align: right;\">\n",
       "      <th></th>\n",
       "      <th>req_inc_ratio</th>\n",
       "      <th>rec_inc_ratio_ctg</th>\n",
       "      <th>approved_flg</th>\n",
       "    </tr>\n",
       "  </thead>\n",
       "  <tbody>\n",
       "    <tr>\n",
       "      <th>0</th>\n",
       "      <td>0.298825</td>\n",
       "      <td>(0.0163, 0.452]</td>\n",
       "      <td>0</td>\n",
       "    </tr>\n",
       "    <tr>\n",
       "      <th>1</th>\n",
       "      <td>0.304907</td>\n",
       "      <td>(0.0163, 0.452]</td>\n",
       "      <td>0</td>\n",
       "    </tr>\n",
       "    <tr>\n",
       "      <th>2</th>\n",
       "      <td>2.163300</td>\n",
       "      <td>(1.218, 1474.111]</td>\n",
       "      <td>0</td>\n",
       "    </tr>\n",
       "    <tr>\n",
       "      <th>3</th>\n",
       "      <td>1.965200</td>\n",
       "      <td>(1.218, 1474.111]</td>\n",
       "      <td>0</td>\n",
       "    </tr>\n",
       "    <tr>\n",
       "      <th>4</th>\n",
       "      <td>0.782000</td>\n",
       "      <td>(0.735, 1.218]</td>\n",
       "      <td>0</td>\n",
       "    </tr>\n",
       "    <tr>\n",
       "      <th>...</th>\n",
       "      <td>...</td>\n",
       "      <td>...</td>\n",
       "      <td>...</td>\n",
       "    </tr>\n",
       "    <tr>\n",
       "      <th>9995</th>\n",
       "      <td>0.821393</td>\n",
       "      <td>(0.735, 1.218]</td>\n",
       "      <td>0</td>\n",
       "    </tr>\n",
       "    <tr>\n",
       "      <th>9996</th>\n",
       "      <td>0.539267</td>\n",
       "      <td>(0.452, 0.735]</td>\n",
       "      <td>1</td>\n",
       "    </tr>\n",
       "    <tr>\n",
       "      <th>9997</th>\n",
       "      <td>0.464516</td>\n",
       "      <td>(0.452, 0.735]</td>\n",
       "      <td>1</td>\n",
       "    </tr>\n",
       "    <tr>\n",
       "      <th>9998</th>\n",
       "      <td>0.244586</td>\n",
       "      <td>(0.0163, 0.452]</td>\n",
       "      <td>1</td>\n",
       "    </tr>\n",
       "    <tr>\n",
       "      <th>9999</th>\n",
       "      <td>0.450275</td>\n",
       "      <td>(0.0163, 0.452]</td>\n",
       "      <td>1</td>\n",
       "    </tr>\n",
       "  </tbody>\n",
       "</table>\n",
       "<p>9998 rows × 3 columns</p>\n",
       "</div>"
      ],
      "text/plain": [
       "      req_inc_ratio  rec_inc_ratio_ctg  approved_flg\n",
       "0          0.298825    (0.0163, 0.452]             0\n",
       "1          0.304907    (0.0163, 0.452]             0\n",
       "2          2.163300  (1.218, 1474.111]             0\n",
       "3          1.965200  (1.218, 1474.111]             0\n",
       "4          0.782000     (0.735, 1.218]             0\n",
       "...             ...                ...           ...\n",
       "9995       0.821393     (0.735, 1.218]             0\n",
       "9996       0.539267     (0.452, 0.735]             1\n",
       "9997       0.464516     (0.452, 0.735]             1\n",
       "9998       0.244586    (0.0163, 0.452]             1\n",
       "9999       0.450275    (0.0163, 0.452]             1\n",
       "\n",
       "[9998 rows x 3 columns]"
      ]
     },
     "execution_count": 480,
     "metadata": {},
     "output_type": "execute_result"
    }
   ],
   "source": [
    "ratio_ctg = pd.qcut(ratio, q=4).rename(\"rec_inc_ratio_ctg\")\n",
    "\n",
    "df_ratio = pd.concat([ratio, ratio_ctg, df.approved_flg], axis=1)\n",
    "df_ratio"
   ]
  },
  {
   "cell_type": "code",
   "execution_count": 481,
   "id": "6b89f462",
   "metadata": {},
   "outputs": [
    {
     "name": "stdout",
     "output_type": "stream",
     "text": [
      "ratio (0.0163, 0.452]      client approved 99% confidence interval:           [0.320 - 0.369]\n",
      "ratio (0.452, 0.735]       client approved 99% confidence interval:           [0.270 - 0.317]\n",
      "ratio (0.735, 1.218]       client approved 99% confidence interval:           [0.216 - 0.259]\n",
      "ratio (1.218, 1474.111]    client approved 99% confidence interval:           [0.151 - 0.190]\n"
     ]
    },
    {
     "data": {
      "image/png": "[encoded data removed]",
      "text/plain": [
       "<Figure size 432x576 with 1 Axes>"
      ]
     },
     "metadata": {
      "needs_background": "light"
     },
     "output_type": "display_data"
    }
   ],
   "source": [
    "ci_bounds = []\n",
    "\n",
    "for ctg in sorted(ratio_ctg.unique()):\n",
    "    ratio_ctg_data = df_ratio[df_ratio.rec_inc_ratio_ctg == ctg].approved_flg\n",
    "    \n",
    "    ratio_client_approved_conf_int = proportion_confint(ratio_ctg_data.sum(), len(ratio_ctg_data),\n",
    "                                                        alpha = 0.01,\n",
    "                                                        method = 'wilson')\n",
    "\n",
    "    print(f'ratio {str(ctg):20} client approved 99% confidence interval: \\\n",
    "          [{ratio_client_approved_conf_int[0]:.3f} - {ratio_client_approved_conf_int[1]:.3f}]')\n",
    "    \n",
    "    plt.vlines(str(ctg), *ratio_client_approved_conf_int, color=\".3\", alpha=0.8)\n",
    "    plt.scatter(y=ratio_ctg_data.mean(), x=str(ctg), s=100, color=\".0\")\n",
    "    \n",
    "    ci_bounds.extend(ratio_client_approved_conf_int)\n",
    "    \n",
    "plt.yticks(ci_bounds)\n",
    "plt.grid(True, linestyle='--', alpha=0.25)"
   ]
  },
  {
   "cell_type": "markdown",
   "id": "cd4c5962",
   "metadata": {},
   "source": [
    "Признак нахождения в одной из четырех категорий по отношению разпрошенная сумма/зарплата разделяет риски на уровне значимости 99%."
   ]
  }
 ],
 "metadata": {
  "kernelspec": {
   "display_name": "Python 3 (ipykernel)",
   "language": "python",
   "name": "python3"
  },
  "language_info": {
   "codemirror_mode": {
    "name": "ipython",
    "version": 3
   },
   "file_extension": ".py",
   "mimetype": "text/x-python",
   "name": "python",
   "nbconvert_exporter": "python",
   "pygments_lexer": "ipython3",
   "version": "3.9.7"
  }
 },
 "nbformat": 4,
 "nbformat_minor": 5
}
